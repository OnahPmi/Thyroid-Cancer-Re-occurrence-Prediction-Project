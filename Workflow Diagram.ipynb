{
 "cells": [
  {
   "cell_type": "code",
   "execution_count": 19,
   "id": "a545f5b3",
   "metadata": {},
   "outputs": [
    {
     "data": {
      "text/plain": [
       "'results\\\\research_workflow_wide.pdf'"
      ]
     },
     "execution_count": 19,
     "metadata": {},
     "output_type": "execute_result"
    }
   ],
   "source": [
    "from graphviz import Digraph\n",
    "\n",
    "# Create a new directed graph\n",
    "dot = Digraph(comment='Research Workflow')\n",
    "\n",
    "# Set graph attributes for a wider and shorter layout\n",
    "dot.attr(size='8.27,5.85', rankdir='TB', splines='polyline')\n",
    "\n",
    "color = edgecolor = \"lightblue\"  # darkturquoise\n",
    "\n",
    "# Add nodes for each step in the workflow with increased font size and color fill\n",
    "dot.node('A', 'Data Collection and\\nPreprocessing', shape='ellipse', style='filled', color=color, fontname='Helvetica-Bold', \n",
    "         fontsize='17')\n",
    "dot.node('C', 'One-hot encoding\\nfor categorical features', shape='box', style='filled', color=color, \n",
    "         fontname='Helvetica-Bold', fontsize='17')\n",
    "dot.node('D', 'Min-max normalization\\nfor numerical features', shape='box', style='filled', color=color, \n",
    "         fontname='Helvetica-Bold', fontsize='17')\n",
    "dot.node('E', 'Feature Engineering', shape='cylinder', style='filled', color=color, fontname='Helvetica-Bold', \n",
    "         fontsize='17')\n",
    "dot.node('F', 'Linear Dimensionality Reduction\\n(PCA, tICA, tSVD, NMF)', shape='box', style='filled', \n",
    "         color=color, fontname='Helvetica-Bold', fontsize='17')\n",
    "dot.node('G', 'Manifold Learning\\n(t-SNE, UMAP, LLE, Isomap)', shape='box', style='filled', color=color, \n",
    "         fontname='Helvetica-Bold', fontsize='17')\n",
    "dot.node('H', 'K-means Clustering and Evaluation (10-Fold CV)\\nARI, V-measure, Silhouette Coeficient', shape='box', \n",
    "         style='filled', color=color, fontname='Helvetica-Bold', fontsize='17')\n",
    "dot.node('J', 'Classification Modeling\\n SVM, LR, FNN, GB, RF, KNN', shape='cylinder', style='filled', color=color, \n",
    "         fontname='Helvetica-Bold', fontsize='17')\n",
    "dot.node('K', 'Model Evaluation (10-fold CV)\\nBalanced accuracy, ROC-AUC, F1 score, etc.', shape='box', \n",
    "         style='filled', color=color, fontname='Helvetica-Bold', fontsize='17')\n",
    "dot.node('L', 'Model Comparison', shape='ellipse', style='filled', color=color, fontname='Helvetica-Bold', fontsize='17')\n",
    "\n",
    "edgeLen = \"1.5\"\n",
    "# Add edges to define the flow with increased arrow size\n",
    "dot.edge('A', 'C', arrowsize=edgeLen, color=edgecolor)\n",
    "dot.edge('A', 'D', arrowsize=edgeLen, color=edgecolor)\n",
    "dot.edge('C', 'E', arrowsize=edgeLen, color=edgecolor)\n",
    "dot.edge('D', 'E', arrowsize=edgeLen, color=edgecolor)\n",
    "dot.edge('E', 'F', arrowsize=edgeLen, color=edgecolor)\n",
    "dot.edge('E', 'G', arrowsize=edgeLen, color=edgecolor)\n",
    "dot.edge('F', 'H', arrowsize=edgeLen, color=edgecolor)\n",
    "dot.edge('G', 'H', arrowsize=edgeLen, color=edgecolor)\n",
    "dot.edge('H', 'J', arrowsize=edgeLen, color=edgecolor)\n",
    "dot.edge('J', 'K', arrowsize=edgeLen, color=edgecolor)\n",
    "dot.edge('K', 'L', arrowsize=edgeLen, color=edgecolor)\n",
    "\n",
    "# Render the graph to a file\n",
    "dot.render('results/research_workflow_wide', format='png', cleanup=True)\n",
    "\n",
    "# Display the graph\n",
    "dot.view()"
   ]
  }
 ],
 "metadata": {
  "kernelspec": {
   "display_name": "Python 3 (ipykernel)",
   "language": "python",
   "name": "python3"
  },
  "language_info": {
   "codemirror_mode": {
    "name": "ipython",
    "version": 3
   },
   "file_extension": ".py",
   "mimetype": "text/x-python",
   "name": "python",
   "nbconvert_exporter": "python",
   "pygments_lexer": "ipython3",
   "version": "3.11.5"
  }
 },
 "nbformat": 4,
 "nbformat_minor": 5
}
